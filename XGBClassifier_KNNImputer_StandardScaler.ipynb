{
  "nbformat": 4,
  "nbformat_minor": 0,
  "metadata": {
    "colab": {
      "provenance": []
    },
    "kernelspec": {
      "name": "python3",
      "display_name": "Python 3"
    },
    "language_info": {
      "name": "python"
    }
  },
  "cells": [
    {
      "cell_type": "code",
      "execution_count": 1,
      "metadata": {
        "colab": {
          "base_uri": "https://localhost:8080/"
        },
        "id": "R4H-HzVfloNw",
        "outputId": "202a8296-8c72-43d5-8710-2dda6aa132ed"
      },
      "outputs": [
        {
          "output_type": "stream",
          "name": "stdout",
          "text": [
            "Best Parameters: {'xgb__colsample_bytree': 1.0, 'xgb__gamma': 0.2, 'xgb__learning_rate': 0.2, 'xgb__max_depth': 5, 'xgb__n_estimators': 200, 'xgb__scale_pos_weight': 1, 'xgb__subsample': 0.8}\n",
            "Accuracy: 0.8892\n",
            "Precision: 0.8961\n",
            "Recall: 0.8892\n",
            "F1 Score: 0.8905\n",
            "Confusion Matrix:\n",
            "[[1059  151]\n",
            " [  59  627]]\n",
            "Classification Report:\n",
            "               precision    recall  f1-score   support\n",
            "\n",
            "           0       0.95      0.88      0.91      1210\n",
            "           1       0.81      0.91      0.86       686\n",
            "\n",
            "    accuracy                           0.89      1896\n",
            "   macro avg       0.88      0.89      0.88      1896\n",
            "weighted avg       0.90      0.89      0.89      1896\n",
            "\n",
            "Model saved as 'xgb_model_grid.joblib'\n"
          ]
        }
      ],
      "source": [
        "import pandas as pd\n",
        "import numpy as np\n",
        "from xgboost import XGBClassifier\n",
        "from sklearn.impute import KNNImputer\n",
        "from sklearn.preprocessing import StandardScaler\n",
        "from sklearn.model_selection import StratifiedKFold, GridSearchCV\n",
        "from sklearn.metrics import make_scorer, f1_score, precision_score, recall_score, accuracy_score, confusion_matrix, classification_report\n",
        "from imblearn.over_sampling import ADASYN\n",
        "from imblearn.pipeline import Pipeline as ImbPipeline\n",
        "from joblib import dump\n",
        "\n",
        "# Load train and test datasets\n",
        "X_train = pd.read_csv('/content/X_train.csv')\n",
        "X_test = pd.read_csv('/content/X_test.csv')\n",
        "y_train = pd.read_csv('/content/Y_train.csv').values.ravel()\n",
        "y_test = pd.read_csv('/content/Y_test.csv').values.ravel()\n",
        "\n",
        "# Define the pipeline with KNNImputer, StandardScaler, ADASYN, and XGBoost Classifier\n",
        "pipeline = ImbPipeline([\n",
        "    ('imputer', KNNImputer(n_neighbors=5)),     # Impute missing values with KNN\n",
        "    ('scaler', StandardScaler()),               # Standardize features\n",
        "    ('adasyn', ADASYN(random_state=42)),        # ADASYN oversampling\n",
        "    ('xgb', XGBClassifier(eval_metric='logloss', random_state=42))  # XGBoost Classifier\n",
        "])\n",
        "\n",
        "# Define the parameter grid for XGBoost\n",
        "param_grid = {\n",
        "    'xgb__n_estimators': [100, 200],\n",
        "    'xgb__learning_rate': [0.01, 0.1, 0.2],\n",
        "    'xgb__max_depth': [3, 4, 5],\n",
        "    'xgb__subsample': [0.8, 1.0],\n",
        "    'xgb__colsample_bytree': [0.8, 1.0],\n",
        "    'xgb__gamma': [0, 0.1, 0.2],\n",
        "    'xgb__scale_pos_weight': [1, 2]\n",
        "}\n",
        "\n",
        "# Scoring metrics for evaluation\n",
        "scoring = {\n",
        "    'accuracy': make_scorer(accuracy_score),\n",
        "    'precision': make_scorer(precision_score, average='weighted'),\n",
        "    'recall': make_scorer(recall_score, average='weighted'),\n",
        "    'f1': make_scorer(f1_score, average='weighted')\n",
        "}\n",
        "\n",
        "# Setup StratifiedKFold for cross-validation\n",
        "cv = StratifiedKFold(n_splits=3, shuffle=True, random_state=42)\n",
        "\n",
        "# Apply GridSearchCV for hyperparameter tuning\n",
        "grid_search = GridSearchCV(\n",
        "    estimator=pipeline,\n",
        "    param_grid=param_grid,\n",
        "    scoring=scoring,\n",
        "    refit='f1',\n",
        "    cv=cv,\n",
        "    n_jobs=-1\n",
        ")\n",
        "\n",
        "# Fit the model on training data\n",
        "grid_search.fit(X_train, y_train)\n",
        "\n",
        "# Get the best parameters\n",
        "print(f\"Best Parameters: {grid_search.best_params_}\")\n",
        "\n",
        "# Predict on the test set using the best estimator\n",
        "y_pred = grid_search.best_estimator_.predict(X_test)\n",
        "\n",
        "# Calculate evaluation metrics\n",
        "accuracy = accuracy_score(y_test, y_pred)\n",
        "precision = precision_score(y_test, y_pred, average='weighted')\n",
        "recall = recall_score(y_test, y_pred, average='weighted')\n",
        "f1 = f1_score(y_test, y_pred, average='weighted')\n",
        "conf_matrix = confusion_matrix(y_test, y_pred)\n",
        "\n",
        "# Display evaluation metrics\n",
        "print(f'Accuracy: {accuracy:.4f}')\n",
        "print(f'Precision: {precision:.4f}')\n",
        "print(f'Recall: {recall:.4f}')\n",
        "print(f'F1 Score: {f1:.4f}')\n",
        "print(f'Confusion Matrix:\\n{conf_matrix}')\n",
        "\n",
        "# Generate and display the classification report\n",
        "report = classification_report(y_test, y_pred)\n",
        "print(\"Classification Report:\\n\", report)\n",
        "\n",
        "# Save the best model to a file using joblib\n",
        "dump(grid_search.best_estimator_, 'xgb_model_grid.joblib')\n",
        "print(\"Model saved as 'xgb_model_grid.joblib'\")\n"
      ]
    },
    {
      "cell_type": "code",
      "source": [],
      "metadata": {
        "id": "yBu9nW-7oF8D"
      },
      "execution_count": null,
      "outputs": []
    }
  ]
}