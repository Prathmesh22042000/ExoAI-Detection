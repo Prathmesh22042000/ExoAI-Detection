{
  "nbformat": 4,
  "nbformat_minor": 0,
  "metadata": {
    "colab": {
      "provenance": []
    },
    "kernelspec": {
      "name": "python3",
      "display_name": "Python 3"
    },
    "language_info": {
      "name": "python"
    }
  },
  "cells": [
    {
      "cell_type": "code",
      "execution_count": null,
      "metadata": {
        "id": "bdeumVpgmUzC"
      },
      "outputs": [],
      "source": [
        "import pandas as pd\n",
        "import numpy as np\n",
        "from xgboost import XGBClassifier\n",
        "from sklearn.preprocessing import StandardScaler\n",
        "from sklearn.model_selection import StratifiedKFold, GridSearchCV\n",
        "from sklearn.metrics import make_scorer, f1_score, precision_score, recall_score, accuracy_score, confusion_matrix, classification_report\n",
        "from imblearn.over_sampling import ADASYN\n",
        "from imblearn.pipeline import Pipeline as ImbPipeline\n",
        "from joblib import dump\n"
      ]
    },
    {
      "cell_type": "code",
      "source": [
        "# Load train and test datasets\n",
        "X_train = pd.read_csv('/content/X_train.csv')\n",
        "X_test = pd.read_csv('/content/X_test.csv')\n",
        "y_train = pd.read_csv('/content/Y_train.csv').values.ravel()\n",
        "y_test = pd.read_csv('/content/Y_test.csv').values.ravel()\n",
        "\n",
        "# Display the shapes of datasets\n",
        "print(\"Training set shape:\", X_train.shape)\n",
        "print(\"Test set shape:\", X_test.shape)\n",
        "print(\"Training labels shape:\", y_train.shape)\n",
        "print(\"Test labels shape:\", y_test.shape)\n"
      ],
      "metadata": {
        "colab": {
          "base_uri": "https://localhost:8080/"
        },
        "id": "qxvd4K5tmiR2",
        "outputId": "ccf415fc-84de-4afc-c73d-14c13411ebe6"
      },
      "execution_count": null,
      "outputs": [
        {
          "output_type": "stream",
          "name": "stdout",
          "text": [
            "Training set shape: (5686, 9)\n",
            "Test set shape: (1896, 9)\n",
            "Training labels shape: (5686,)\n",
            "Test labels shape: (1896,)\n"
          ]
        }
      ]
    },
    {
      "cell_type": "code",
      "source": [
        "# Define the pipeline with StandardScaler, ADASYN, and XGBoost Classifier\n",
        "pipeline = ImbPipeline([\n",
        "    ('scaler', StandardScaler()),        # Standardize features\n",
        "    ('adasyn', ADASYN(random_state=42)),  # ADASYN oversampling\n",
        "    ('xgb', XGBClassifier(eval_metric='logloss', random_state=42))  # XGBoost Classifier\n",
        "])\n",
        "\n",
        "print(\"Pipeline defined with StandardScaler, ADASYN, and XGBoost Classifier.\")\n"
      ],
      "metadata": {
        "colab": {
          "base_uri": "https://localhost:8080/"
        },
        "id": "DsdyQFjcmlQb",
        "outputId": "4f3ff8a6-481f-4f46-8e41-34786b982a26"
      },
      "execution_count": null,
      "outputs": [
        {
          "output_type": "stream",
          "name": "stdout",
          "text": [
            "Pipeline defined with StandardScaler, ADASYN, and XGBoost Classifier.\n"
          ]
        }
      ]
    },
    {
      "cell_type": "code",
      "source": [
        "# Define the parameter grid for XGBoost\n",
        "param_grid = {\n",
        "    'xgb__n_estimators': [100, 200],            # Number of boosting rounds\n",
        "    'xgb__learning_rate': [0.01, 0.1, 0.2],     # Step size shrinkage\n",
        "    'xgb__max_depth': [3, 4, 5],                 # Maximum tree depth\n",
        "    'xgb__subsample': [0.8, 1.0],                # Subsample ratio of the training instances\n",
        "    'xgb__colsample_bytree': [0.8, 1.0],        # Subsample ratio of columns when constructing each tree\n",
        "    'xgb__gamma': [0, 0.1, 0.2],                 # Minimum loss reduction required to make a further partition\n",
        "    'xgb__scale_pos_weight': [1, 2]              # Controls the balance of positive and negative weights\n",
        "}\n",
        "\n",
        "# Scoring metrics for evaluation\n",
        "scoring = {\n",
        "    'accuracy': make_scorer(accuracy_score),\n",
        "    'precision': make_scorer(precision_score, average='weighted'),\n",
        "    'recall': make_scorer(recall_score, average='weighted'),\n",
        "    'f1': make_scorer(f1_score, average='weighted')\n",
        "}\n",
        "\n",
        "print(\"Parameter grid and scoring metrics defined.\")\n"
      ],
      "metadata": {
        "colab": {
          "base_uri": "https://localhost:8080/"
        },
        "id": "ydsC-BxqmnF7",
        "outputId": "7869677f-89a1-40af-bc6a-9b98b0af7a1e"
      },
      "execution_count": null,
      "outputs": [
        {
          "output_type": "stream",
          "name": "stdout",
          "text": [
            "Parameter grid and scoring metrics defined.\n"
          ]
        }
      ]
    },
    {
      "cell_type": "code",
      "source": [
        "# Setup StratifiedKFold for cross-validation\n",
        "cv = StratifiedKFold(n_splits=3, shuffle=True, random_state=42)\n",
        "\n",
        "# Apply GridSearchCV for hyperparameter tuning\n",
        "grid_search = GridSearchCV(\n",
        "    estimator=pipeline,\n",
        "    param_grid=param_grid,\n",
        "    scoring=scoring,\n",
        "    refit='f1',  # Choose the best model based on f1-score\n",
        "    cv=cv,\n",
        "    n_jobs=-1\n",
        ")\n",
        "\n",
        "# Fit the model on training data\n",
        "grid_search.fit(X_train, y_train)\n",
        "\n",
        "# Get the best parameters\n",
        "print(f\"Best Parameters: {grid_search.best_params_}\")\n"
      ],
      "metadata": {
        "colab": {
          "base_uri": "https://localhost:8080/"
        },
        "id": "XAOICWdNmpMF",
        "outputId": "29b466cd-0709-4231-d34b-a68ddacf263b"
      },
      "execution_count": null,
      "outputs": [
        {
          "output_type": "stream",
          "name": "stdout",
          "text": [
            "Best Parameters: {'xgb__colsample_bytree': 0.8, 'xgb__gamma': 0.2, 'xgb__learning_rate': 0.2, 'xgb__max_depth': 5, 'xgb__n_estimators': 200, 'xgb__scale_pos_weight': 1, 'xgb__subsample': 0.8}\n"
          ]
        }
      ]
    },
    {
      "cell_type": "code",
      "source": [
        "# Predict on the test set using the best estimator\n",
        "y_pred = grid_search.best_estimator_.predict(X_test)\n",
        "\n",
        "# Calculate evaluation metrics\n",
        "accuracy = accuracy_score(y_test, y_pred)\n",
        "precision = precision_score(y_test, y_pred, average='weighted')\n",
        "recall = recall_score(y_test, y_pred, average='weighted')\n",
        "f1 = f1_score(y_test, y_pred, average='weighted')\n",
        "conf_matrix = confusion_matrix(y_test, y_pred)\n",
        "\n",
        "# Display evaluation metrics\n",
        "print(f'Accuracy: {accuracy:.4f}')\n",
        "print(f'Precision: {precision:.4f}')\n",
        "print(f'Recall: {recall:.4f}')\n",
        "print(f'F1 Score: {f1:.4f}')\n",
        "print(f'Confusion Matrix:\\n{conf_matrix}')\n"
      ],
      "metadata": {
        "colab": {
          "base_uri": "https://localhost:8080/"
        },
        "id": "HOH_E_oioekc",
        "outputId": "2c3f1aa8-58cf-435a-ad3a-b7c098355bdf"
      },
      "execution_count": null,
      "outputs": [
        {
          "output_type": "stream",
          "name": "stdout",
          "text": [
            "Accuracy: 0.8929\n",
            "Precision: 0.8992\n",
            "Recall: 0.8929\n",
            "F1 Score: 0.8941\n",
            "Confusion Matrix:\n",
            "[[1065  145]\n",
            " [  58  628]]\n"
          ]
        }
      ]
    },
    {
      "cell_type": "code",
      "source": [
        "# Generate and display the classification report\n",
        "report = classification_report(y_test, y_pred)\n",
        "print(\"Classification Report:\\n\", report)\n"
      ],
      "metadata": {
        "colab": {
          "base_uri": "https://localhost:8080/"
        },
        "id": "CO2UySH8mtBF",
        "outputId": "33ce30c1-b925-45ad-c21e-d372835d52a1"
      },
      "execution_count": null,
      "outputs": [
        {
          "output_type": "stream",
          "name": "stdout",
          "text": [
            "Classification Report:\n",
            "               precision    recall  f1-score   support\n",
            "\n",
            "           0       0.95      0.88      0.91      1210\n",
            "           1       0.81      0.92      0.86       686\n",
            "\n",
            "    accuracy                           0.89      1896\n",
            "   macro avg       0.88      0.90      0.89      1896\n",
            "weighted avg       0.90      0.89      0.89      1896\n",
            "\n"
          ]
        }
      ]
    },
    {
      "cell_type": "code",
      "source": [
        "# Save the best model to a file using joblib\n",
        "dump(grid_search.best_estimator_, 'xgb_model_grid.joblib')\n",
        "print(\"Model saved as 'xgb_model_grid.joblib'\")\n"
      ],
      "metadata": {
        "colab": {
          "base_uri": "https://localhost:8080/"
        },
        "id": "6WiMrsl4nCMH",
        "outputId": "b275ed13-0fc5-4376-ad04-ebfada3e0b60"
      },
      "execution_count": null,
      "outputs": [
        {
          "output_type": "stream",
          "name": "stdout",
          "text": [
            "Model saved as 'xgb_model_grid.joblib'\n"
          ]
        }
      ]
    },
    {
      "cell_type": "code",
      "source": [],
      "metadata": {
        "id": "lJtBImfZnD_s"
      },
      "execution_count": null,
      "outputs": []
    },
    {
      "cell_type": "code",
      "source": [
        "import pandas as pd\n",
        "import numpy as np\n",
        "import xgboost as xgb\n",
        "from sklearn.model_selection import StratifiedKFold\n",
        "from sklearn.metrics import f1_score\n",
        "from imblearn.over_sampling import ADASYN\n",
        "from imblearn.pipeline import Pipeline as ImbPipeline\n",
        "\n",
        "# Load train and test datasets (modify paths as necessary)\n",
        "X_train = pd.read_csv('/content/X_train.csv')  # Update the path as needed\n",
        "y_train = pd.read_csv('/content/Y_train.csv').values.ravel()  # Convert to 1D array\n",
        "\n",
        "# Define the pipeline with ADASYN and XGBoost Classifier\n",
        "pipeline = ImbPipeline([\n",
        "    ('adasyn', ADASYN(random_state=42)),  # ADASYN oversampling\n",
        "    ('xgb', xgb.XGBClassifier(eval_metric='mlogloss', random_state=42))  # XGBoost without use_label_encoder\n",
        "])\n",
        "\n",
        "# Setup StratifiedKFold for cross-validation\n",
        "cv = StratifiedKFold(n_splits=5, shuffle=True, random_state=42)\n",
        "\n",
        "# Initialize a list to store the F1 scores for each fold\n",
        "f1_scores = []\n",
        "\n",
        "# Perform stratified cross-validation\n",
        "for train_index, test_index in cv.split(X_train, y_train):\n",
        "    X_cv_train, X_cv_test = X_train.iloc[train_index], X_train.iloc[test_index]\n",
        "    y_cv_train, y_cv_test = y_train[train_index], y_train[test_index]\n",
        "\n",
        "    # Fit the model on the training fold\n",
        "    pipeline.fit(X_cv_train, y_cv_train)\n",
        "\n",
        "    # Predict on the test fold\n",
        "    y_cv_pred = pipeline.predict(X_cv_test)\n",
        "\n",
        "    # Calculate F1 score and append to the list\n",
        "    f1 = f1_score(y_cv_test, y_cv_pred, average='weighted')\n",
        "    f1_scores.append(f1)\n",
        "\n",
        "# Calculate the average F1 score across all folds\n",
        "average_f1_score = np.mean(f1_scores)\n",
        "\n",
        "# Display the results\n",
        "print(f\"F1 Scores for each fold: {f1_scores}\")\n",
        "print(f\"Average F1 Score: {average_f1_score:.4f}\")\n"
      ],
      "metadata": {
        "colab": {
          "base_uri": "https://localhost:8080/"
        },
        "id": "Gjq2WQS3of6H",
        "outputId": "3b764b50-6c9d-40dd-f8b5-7552005282ba"
      },
      "execution_count": null,
      "outputs": [
        {
          "output_type": "stream",
          "name": "stdout",
          "text": [
            "F1 Scores for each fold: [0.895723262220602, 0.8919266985265928, 0.911100993949294, 0.9035761803963112, 0.8930373206969405]\n",
            "Average F1 Score: 0.8991\n"
          ]
        }
      ]
    },
    {
      "cell_type": "code",
      "source": [],
      "metadata": {
        "id": "f4lo4sQoof9j"
      },
      "execution_count": null,
      "outputs": []
    },
    {
      "cell_type": "code",
      "source": [
        "import pandas as pd\n",
        "import numpy as np\n",
        "import matplotlib.pyplot as plt\n",
        "from sklearn.metrics import precision_recall_curve, auc\n",
        "from xgboost import XGBClassifier\n",
        "from sklearn.preprocessing import StandardScaler\n",
        "from sklearn.model_selection import StratifiedKFold\n",
        "from sklearn.metrics import f1_score\n",
        "from imblearn.over_sampling import ADASYN\n",
        "from imblearn.pipeline import Pipeline as ImbPipeline\n",
        "\n",
        "# Load train and test datasets (Update the file paths accordingly)\n",
        "X_train = pd.read_csv('/content/X_train.csv')\n",
        "X_test = pd.read_csv('/content/X_test.csv')\n",
        "y_train = pd.read_csv('/content/Y_train.csv').values.ravel()\n",
        "y_test = pd.read_csv('/content/Y_test.csv').values.ravel()\n",
        "\n",
        "# Define the pipeline with StandardScaler, ADASYN, and XGBoost Classifier\n",
        "pipeline = ImbPipeline([\n",
        "    ('scaler', StandardScaler()),        # Standardize features\n",
        "    ('adasyn', ADASYN(random_state=42)),  # ADASYN oversampling\n",
        "    ('xgb', XGBClassifier(eval_metric='logloss', random_state=42))  # XGBoost Classifier\n",
        "])\n",
        "\n",
        "# Train the model\n",
        "pipeline.fit(X_train, y_train)\n",
        "\n",
        "# Get predicted probabilities for the test set\n",
        "y_proba = pipeline.predict_proba(X_test)\n",
        "\n",
        "# Plot Precision-Recall Curve\n",
        "def plot_precision_recall_curve(y_test, y_proba):\n",
        "    # Calculate precision, recall, and thresholds\n",
        "    precision, recall, _ = precision_recall_curve(y_test, y_proba[:, 1])\n",
        "\n",
        "    # Calculate the area under the curve (AUC)\n",
        "    pr_auc = auc(recall, precision)\n",
        "\n",
        "    # Plotting the Precision-Recall curve\n",
        "    plt.figure(figsize=(8, 6))\n",
        "    plt.plot(recall, precision, label=f'PR AUC = {pr_auc:.2f}', color='b')\n",
        "    plt.xlabel('Recall')\n",
        "    plt.ylabel('Precision')\n",
        "    plt.title('Precision-Recall Curve')\n",
        "    plt.legend(loc='lower left')\n",
        "    plt.grid(True)\n",
        "    plt.show()\n",
        "\n",
        "# Call the function to plot the precision-recall curve\n",
        "plot_precision_recall_curve(y_test, y_proba)\n"
      ],
      "metadata": {
        "id": "ZwpJOFtlogcQ",
        "colab": {
          "base_uri": "https://localhost:8080/",
          "height": 564
        },
        "outputId": "b992cc6f-34c1-4de7-a668-58febc14bb61"
      },
      "execution_count": null,
      "outputs": [
        {
          "output_type": "display_data",
          "data": {
            "text/plain": [
              "<Figure size 800x600 with 1 Axes>"
            ],
            "image/png": "[encoded data removed]"
          },
          "metadata": {}
        }
      ]
    },
    {
      "cell_type": "code",
      "source": [
        "import pandas as pd\n",
        "import numpy as np\n",
        "import matplotlib.pyplot as plt\n",
        "from xgboost import XGBClassifier\n",
        "from sklearn.preprocessing import StandardScaler\n",
        "from sklearn.model_selection import StratifiedKFold\n",
        "from sklearn.metrics import roc_curve, precision_score, recall_score, f1_score, confusion_matrix\n",
        "from imblearn.over_sampling import ADASYN\n",
        "from imblearn.pipeline import Pipeline as ImbPipeline\n",
        "\n",
        "# Load train and test datasets (Update file paths as needed)\n",
        "X_train = pd.read_csv('/content/X_train.csv')\n",
        "X_test = pd.read_csv('/content/X_test.csv')\n",
        "y_train = pd.read_csv('/content/Y_train.csv').values.ravel()\n",
        "y_test = pd.read_csv('/content/Y_test.csv').values.ravel()\n",
        "\n",
        "# Define the pipeline with StandardScaler, ADASYN, and XGBoost Classifier\n",
        "pipeline = ImbPipeline([\n",
        "    ('scaler', StandardScaler()),        # Standardize features\n",
        "    ('adasyn', ADASYN(random_state=42)),  # ADASYN oversampling\n",
        "    ('xgb', XGBClassifier(eval_metric='logloss', random_state=42))  # XGBoost Classifier\n",
        "])\n",
        "\n",
        "# Train the model\n",
        "pipeline.fit(X_train, y_train)\n",
        "\n",
        "# Get predicted probabilities for the test set\n",
        "y_proba = pipeline.predict_proba(X_test)[:, 1]  # Only the positive class probabilities\n",
        "\n",
        "# Plot ROC Curve and capture different thresholds\n",
        "fpr, tpr, thresholds = roc_curve(y_test, y_proba)\n",
        "\n",
        "# Plotting ROC Curve\n",
        "plt.figure(figsize=(8, 6))\n",
        "plt.plot(fpr, tpr, label='ROC Curve', color='b')\n",
        "plt.plot([0, 1], [0, 1], 'k--', label='Random Classifier')\n",
        "plt.xlabel('False Positive Rate')\n",
        "plt.ylabel('True Positive Rate')\n",
        "plt.title('ROC Curve')\n",
        "plt.legend(loc='lower right')\n",
        "plt.grid(True)\n",
        "plt.show()\n",
        "\n",
        "# Evaluate model at different thresholds\n",
        "def evaluate_at_threshold(threshold, y_test, y_proba):\n",
        "    # Apply threshold to convert probabilities to binary predictions\n",
        "    y_pred = (y_proba >= threshold).astype(int)\n",
        "\n",
        "    # Calculate precision, recall, f1-score, and confusion matrix\n",
        "    precision = precision_score(y_test, y_pred)\n",
        "    recall = recall_score(y_test, y_pred)\n",
        "    f1 = f1_score(y_test, y_pred)\n",
        "    conf_matrix = confusion_matrix(y_test, y_pred)\n",
        "\n",
        "    # Print the results\n",
        "    print(f\"Threshold: {threshold:.2f}\")\n",
        "    print(f\"Precision: {precision:.4f}, Recall: {recall:.4f}, F1-Score: {f1:.4f}\")\n",
        "    print(f\"Confusion Matrix:\\n{conf_matrix}\\n\")\n",
        "\n",
        "# Loop over different threshold values from the ROC curve\n",
        "for threshold in np.arange(0.1, 0.9, 0.1):\n",
        "    evaluate_at_threshold(threshold, y_test, y_proba)\n"
      ],
      "metadata": {
        "colab": {
          "base_uri": "https://localhost:8080/",
          "height": 1000
        },
        "id": "14vXPq1aOq43",
        "outputId": "1fe3db9e-7f26-41a1-f8c0-f7dc9b8dff9f"
      },
      "execution_count": null,
      "outputs": [
        {
          "output_type": "display_data",
          "data": {
            "text/plain": [
              "<Figure size 800x600 with 1 Axes>"
            ],
            "image/png": "[encoded data removed]"
          },
          "metadata": {}
        },
        {
          "output_type": "stream",
          "name": "stdout",
          "text": [
            "Threshold: 0.10\n",
            "Precision: 0.7070, Recall: 0.9708, F1-Score: 0.8182\n",
            "Confusion Matrix:\n",
            "[[934 276]\n",
            " [ 20 666]]\n",
            "\n",
            "Threshold: 0.20\n",
            "Precision: 0.7423, Recall: 0.9534, F1-Score: 0.8347\n",
            "Confusion Matrix:\n",
            "[[983 227]\n",
            " [ 32 654]]\n",
            "\n",
            "Threshold: 0.30\n",
            "Precision: 0.7712, Recall: 0.9431, F1-Score: 0.8485\n",
            "Confusion Matrix:\n",
            "[[1018  192]\n",
            " [  39  647]]\n",
            "\n",
            "Threshold: 0.40\n",
            "Precision: 0.7923, Recall: 0.9286, F1-Score: 0.8550\n",
            "Confusion Matrix:\n",
            "[[1043  167]\n",
            " [  49  637]]\n",
            "\n",
            "Threshold: 0.50\n",
            "Precision: 0.8132, Recall: 0.9140, F1-Score: 0.8607\n",
            "Confusion Matrix:\n",
            "[[1066  144]\n",
            " [  59  627]]\n",
            "\n",
            "Threshold: 0.60\n",
            "Precision: 0.8253, Recall: 0.8950, F1-Score: 0.8587\n",
            "Confusion Matrix:\n",
            "[[1080  130]\n",
            " [  72  614]]\n",
            "\n",
            "Threshold: 0.70\n",
            "Precision: 0.8463, Recall: 0.8586, F1-Score: 0.8524\n",
            "Confusion Matrix:\n",
            "[[1103  107]\n",
            " [  97  589]]\n",
            "\n",
            "Threshold: 0.80\n",
            "Precision: 0.8771, Recall: 0.8222, F1-Score: 0.8488\n",
            "Confusion Matrix:\n",
            "[[1131   79]\n",
            " [ 122  564]]\n",
            "\n"
          ]
        }
      ]
    },
    {
      "cell_type": "code",
      "source": [
        "import pandas as pd\n",
        "import numpy as np\n",
        "from xgboost import XGBClassifier\n",
        "from sklearn.preprocessing import StandardScaler\n",
        "from sklearn.model_selection import StratifiedKFold\n",
        "from sklearn.metrics import f1_score, precision_score, recall_score, accuracy_score, confusion_matrix, classification_report, roc_curve\n",
        "from imblearn.over_sampling import ADASYN\n",
        "from imblearn.pipeline import Pipeline as ImbPipeline\n",
        "from joblib import dump\n",
        "\n",
        "# Load train and test datasets (Update file paths accordingly)\n",
        "X_train = pd.read_csv('/content/X_train.csv')\n",
        "y_train = pd.read_csv('/content/Y_train.csv').values.ravel()\n",
        "X_test = pd.read_csv('/content/X_test.csv')  # Load test dataset\n",
        "y_test = pd.read_csv('/content/Y_test.csv').values.ravel()  # Load true labels for test dataset\n",
        "\n",
        "# Define the pipeline with StandardScaler, ADASYN, and XGBoost Classifier\n",
        "pipeline = ImbPipeline([\n",
        "    ('scaler', StandardScaler()),        # Standardize features\n",
        "    ('adasyn', ADASYN(random_state=42)),  # ADASYN oversampling to balance classes\n",
        "    ('xgb', XGBClassifier(eval_metric='logloss', random_state=42))  # XGBoost Classifier\n",
        "])\n",
        "\n",
        "# Stratified k-fold cross-validation (5 folds)\n",
        "cv = StratifiedKFold(n_splits=5, shuffle=True, random_state=42)\n",
        "\n",
        "# To store the optimal thresholds for each fold\n",
        "optimal_thresholds = []\n",
        "\n",
        "# Perform stratified cross-validation to find the best threshold\n",
        "for train_idx, val_idx in cv.split(X_train, y_train):\n",
        "    # Split the data into training and validation for the current fold\n",
        "    X_cv_train, X_cv_val = X_train.iloc[train_idx], X_train.iloc[val_idx]\n",
        "    y_cv_train, y_cv_val = y_train[train_idx], y_train[val_idx]\n",
        "\n",
        "    # Fit the pipeline on training data\n",
        "    pipeline.fit(X_cv_train, y_cv_train)\n",
        "\n",
        "    # Get the predicted probabilities for the validation set\n",
        "    y_proba = pipeline.predict_proba(X_cv_val)[:, 1]  # Positive class probabilities\n",
        "\n",
        "    # Get the ROC curve to evaluate different thresholds\n",
        "    fpr, tpr, thresholds = roc_curve(y_cv_val, y_proba)\n",
        "\n",
        "    # Initialize variables to store the best threshold and the highest F1-score\n",
        "    best_threshold = 0.5\n",
        "    best_f1 = 0.0\n",
        "\n",
        "    # Iterate over thresholds and evaluate each one\n",
        "    for threshold in thresholds:\n",
        "        y_pred = (y_proba >= threshold).astype(int)  # Convert probabilities to predictions\n",
        "\n",
        "        # Calculate the F1-score at the current threshold\n",
        "        f1 = f1_score(y_cv_val, y_pred)\n",
        "\n",
        "        # If this F1-score is the best so far, store it\n",
        "        if f1 > best_f1:\n",
        "            best_f1 = f1\n",
        "            best_threshold = threshold\n",
        "\n",
        "    # Store the best threshold for this fold\n",
        "    optimal_thresholds.append(best_threshold)\n",
        "    print(f'Best threshold for this fold: {best_threshold:.4f}, Best F1-score: {best_f1:.4f}')\n",
        "\n",
        "# Calculate the average optimal threshold across all folds\n",
        "avg_optimal_threshold = np.mean(optimal_thresholds)\n",
        "print(f\"\\nOptimal threshold across all folds: {avg_optimal_threshold:.4f}\")\n",
        "\n",
        "# Train the final model on the entire training set\n",
        "pipeline.fit(X_train, y_train)\n",
        "\n",
        "# Save the trained model using joblib\n",
        "dump(pipeline, 'final_model.joblib')\n",
        "\n",
        "# Get the predicted probabilities for the test set to evaluate the performance\n",
        "y_proba_test = pipeline.predict_proba(X_test)[:, 1]\n",
        "\n",
        "# Apply the optimal threshold to make final predictions on the test set\n",
        "y_pred_test = (y_proba_test >= avg_optimal_threshold).astype(int)\n",
        "\n",
        "# Evaluate the final model using precision, recall, and F1-score on the test set\n",
        "precision = precision_score(y_test, y_pred_test)\n",
        "recall = recall_score(y_test, y_pred_test)\n",
        "f1 = f1_score(y_test, y_pred_test)\n",
        "accuracy = accuracy_score(y_test, y_pred_test)\n",
        "\n",
        "# Display final evaluation metrics for the test set\n",
        "print(f\"Final model performance on test data with optimal threshold {avg_optimal_threshold:.4f}:\")\n",
        "print(f\"Precision: {precision:.4f}, Recall: {recall:.4f}, F1-Score: {f1:.4f}, Accuracy: {accuracy:.4f}\")\n",
        "\n",
        "# Display confusion matrix and classification report for the test set\n",
        "conf_matrix = confusion_matrix(y_test, y_pred_test)\n",
        "print(f\"\\nConfusion Matrix:\\n{conf_matrix}\")\n",
        "print(\"\\nClassification Report:\")\n",
        "print(classification_report(y_test, y_pred_test))\n"
      ],
      "metadata": {
        "colab": {
          "base_uri": "https://localhost:8080/"
        },
        "id": "FTaSAaAYpAIv",
        "outputId": "7de6eb2c-ded7-4728-831c-53587ada3a9d"
      },
      "execution_count": null,
      "outputs": [
        {
          "output_type": "stream",
          "name": "stdout",
          "text": [
            "Best threshold for this fold: 0.4947, Best F1-score: 0.8621\n",
            "Best threshold for this fold: 0.3841, Best F1-score: 0.8678\n",
            "Best threshold for this fold: 0.3313, Best F1-score: 0.8788\n",
            "Best threshold for this fold: 0.3153, Best F1-score: 0.8728\n",
            "Best threshold for this fold: 0.4805, Best F1-score: 0.8666\n",
            "\n",
            "Optimal threshold across all folds: 0.4012\n",
            "Final model performance on test data with optimal threshold 0.4012:\n",
            "Precision: 0.7920, Recall: 0.9271, F1-Score: 0.8543, Accuracy: 0.8855\n",
            "\n",
            "Confusion Matrix:\n",
            "[[1043  167]\n",
            " [  50  636]]\n",
            "\n",
            "Classification Report:\n",
            "              precision    recall  f1-score   support\n",
            "\n",
            "           0       0.95      0.86      0.91      1210\n",
            "           1       0.79      0.93      0.85       686\n",
            "\n",
            "    accuracy                           0.89      1896\n",
            "   macro avg       0.87      0.89      0.88      1896\n",
            "weighted avg       0.90      0.89      0.89      1896\n",
            "\n"
          ]
        }
      ]
    },
    {
      "cell_type": "code",
      "source": [],
      "metadata": {
        "id": "ZZEe1bnzphap"
      },
      "execution_count": 14,
      "outputs": []
    },
    {
      "cell_type": "code",
      "source": [
        "import pandas as pd\n",
        "import numpy as np\n",
        "from xgboost import XGBClassifier\n",
        "from sklearn.preprocessing import StandardScaler\n",
        "from sklearn.model_selection import StratifiedKFold, GridSearchCV\n",
        "from sklearn.metrics import f1_score, precision_score, recall_score, accuracy_score, confusion_matrix, classification_report, roc_curve\n",
        "from imblearn.over_sampling import ADASYN\n",
        "from imblearn.pipeline import Pipeline as ImbPipeline\n",
        "from joblib import dump\n",
        "\n",
        "# Load train and test datasets (Update file paths accordingly)\n",
        "X_train = pd.read_csv('/content/X_train.csv')\n",
        "y_train = pd.read_csv('/content/Y_train.csv').values.ravel()\n",
        "X_test = pd.read_csv('/content/X_test.csv')  # Load test dataset\n",
        "y_test = pd.read_csv('/content/Y_test.csv').values.ravel()  # Load true labels for test dataset\n",
        "\n",
        "# Define the pipeline with StandardScaler, ADASYN, and XGBoost Classifier\n",
        "pipeline = ImbPipeline([\n",
        "    ('scaler', StandardScaler()),        # Standardize features\n",
        "    ('adasyn', ADASYN(random_state=42)),  # ADASYN oversampling to balance classes\n",
        "    ('xgb', XGBClassifier(eval_metric='logloss', random_state=42))  # XGBoost Classifier\n",
        "])\n",
        "\n",
        "# Hyperparameter tuning for XGBoost\n",
        "param_grid = {\n",
        "    'xgb__n_estimators': [100, 200, 300],\n",
        "    'xgb__max_depth': [3, 5, 7],\n",
        "    'xgb__learning_rate': [0.01, 0.1, 0.2],\n",
        "    'xgb__subsample': [0.8, 1.0],\n",
        "}\n",
        "\n",
        "# Stratified k-fold cross-validation (5 folds)\n",
        "cv = StratifiedKFold(n_splits=5, shuffle=True, random_state=42)\n",
        "\n",
        "# Implement GridSearchCV for hyperparameter tuning\n",
        "grid_search = GridSearchCV(pipeline, param_grid, scoring='f1', cv=cv, n_jobs=-1)\n",
        "\n",
        "# Fit the model using GridSearchCV\n",
        "grid_search.fit(X_train, y_train)\n",
        "\n",
        "# Best model and parameters\n",
        "best_pipeline = grid_search.best_estimator_\n",
        "best_params = grid_search.best_params_\n",
        "print(f\"Best parameters found: {best_params}\")\n",
        "\n",
        "# To store the optimal thresholds for each fold\n",
        "optimal_thresholds = []\n",
        "\n",
        "# Perform stratified cross-validation to find the best threshold\n",
        "for train_idx, val_idx in cv.split(X_train, y_train):\n",
        "    # Split the data into training and validation for the current fold\n",
        "    X_cv_train, X_cv_val = X_train.iloc[train_idx], X_train.iloc[val_idx]\n",
        "    y_cv_train, y_cv_val = y_train[train_idx], y_train[val_idx]\n",
        "\n",
        "    # Fit the best pipeline on training data\n",
        "    best_pipeline.fit(X_cv_train, y_cv_train)\n",
        "\n",
        "    # Get the predicted probabilities for the validation set\n",
        "    y_proba = best_pipeline.predict_proba(X_cv_val)[:, 1]  # Positive class probabilities\n",
        "\n",
        "    # Get the ROC curve to evaluate different thresholds\n",
        "    fpr, tpr, thresholds = roc_curve(y_cv_val, y_proba)\n",
        "\n",
        "    # Initialize variables to store the best threshold and the highest F1-score\n",
        "    best_threshold = 0.5\n",
        "    best_f1 = 0.0\n",
        "\n",
        "    # Iterate over thresholds and evaluate each one\n",
        "    for threshold in thresholds:\n",
        "        y_pred = (y_proba >= threshold).astype(int)  # Convert probabilities to predictions\n",
        "\n",
        "        # Calculate the F1-score at the current threshold\n",
        "        f1 = f1_score(y_cv_val, y_pred)\n",
        "\n",
        "        # If this F1-score is the best so far, store it\n",
        "        if f1 > best_f1:\n",
        "            best_f1 = f1\n",
        "            best_threshold = threshold\n",
        "\n",
        "    # Store the best threshold for this fold\n",
        "    optimal_thresholds.append(best_threshold)\n",
        "    print(f'Best threshold for this fold: {best_threshold:.4f}, Best F1-score: {best_f1:.4f}')\n",
        "\n",
        "# Calculate the average optimal threshold across all folds\n",
        "avg_optimal_threshold = np.mean(optimal_thresholds)\n",
        "print(f\"\\nOptimal threshold across all folds: {avg_optimal_threshold:.4f}\")\n",
        "\n",
        "# Train the final model on the entire training set using the best pipeline\n",
        "best_pipeline.fit(X_train, y_train)\n",
        "\n",
        "# Save the trained model using joblib\n",
        "dump(best_pipeline, 'final_model.joblib')\n",
        "\n",
        "# Get the predicted probabilities for the test set to evaluate the performance\n",
        "y_proba_test = best_pipeline.predict_proba(X_test)[:, 1]\n",
        "\n",
        "# Apply the optimal threshold to make final predictions on the test set\n",
        "y_pred_test = (y_proba_test >= avg_optimal_threshold).astype(int)\n",
        "\n",
        "# Evaluate the final model using precision, recall, and F1-score on the test set\n",
        "precision = precision_score(y_test, y_pred_test)\n",
        "recall = recall_score(y_test, y_pred_test)\n",
        "f1 = f1_score(y_test, y_pred_test)\n",
        "accuracy = accuracy_score(y_test, y_pred_test)\n",
        "\n",
        "# Display final evaluation metrics for the test set\n",
        "print(f\"Final model performance on test data with optimal threshold {avg_optimal_threshold:.4f}:\")\n",
        "print(f\"Precision: {precision:.4f}, Recall: {recall:.4f}, F1-Score: {f1:.4f}, Accuracy: {accuracy:.4f}\")\n",
        "\n",
        "# Display confusion matrix and classification report for the test set\n",
        "conf_matrix = confusion_matrix(y_test, y_pred_test)\n",
        "print(f\"\\nConfusion Matrix:\\n{conf_matrix}\")\n",
        "print(\"\\nClassification Report:\")\n",
        "print(classification_report(y_test, y_pred_test))\n"
      ],
      "metadata": {
        "colab": {
          "base_uri": "https://localhost:8080/"
        },
        "id": "yiMln2VDGK5m",
        "outputId": "0dab3321-3605-4b91-da2b-92bb1e6e37ae"
      },
      "execution_count": 22,
      "outputs": [
        {
          "output_type": "stream",
          "name": "stdout",
          "text": [
            "Best parameters found: {'xgb__learning_rate': 0.2, 'xgb__max_depth': 7, 'xgb__n_estimators': 200, 'xgb__subsample': 0.8}\n",
            "Best threshold for this fold: 0.4830, Best F1-score: 0.8786\n",
            "Best threshold for this fold: 0.2599, Best F1-score: 0.8670\n",
            "Best threshold for this fold: 0.3547, Best F1-score: 0.8907\n",
            "Best threshold for this fold: 0.3409, Best F1-score: 0.8728\n",
            "Best threshold for this fold: 0.6483, Best F1-score: 0.8771\n",
            "\n",
            "Optimal threshold across all folds: 0.4174\n",
            "Final model performance on test data with optimal threshold 0.4174:\n",
            "Precision: 0.8033, Recall: 0.9227, F1-Score: 0.8589, Accuracy: 0.8903\n",
            "\n",
            "Confusion Matrix:\n",
            "[[1055  155]\n",
            " [  53  633]]\n",
            "\n",
            "Classification Report:\n",
            "              precision    recall  f1-score   support\n",
            "\n",
            "           0       0.95      0.87      0.91      1210\n",
            "           1       0.80      0.92      0.86       686\n",
            "\n",
            "    accuracy                           0.89      1896\n",
            "   macro avg       0.88      0.90      0.88      1896\n",
            "weighted avg       0.90      0.89      0.89      1896\n",
            "\n"
          ]
        }
      ]
    },
    {
      "cell_type": "code",
      "source": [],
      "metadata": {
        "id": "6QfbQ6rGPRDK"
      },
      "execution_count": 21,
      "outputs": []
    },
    {
      "cell_type": "code",
      "source": [],
      "metadata": {
        "id": "SKWt1E1_CWaH"
      },
      "execution_count": 24,
      "outputs": []
    },
    {
      "cell_type": "code",
      "source": [],
      "metadata": {
        "id": "tsIGUBlwCjE5"
      },
      "execution_count": null,
      "outputs": []
    }
  ]
}