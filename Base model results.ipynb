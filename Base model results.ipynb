{
 "cells": [
  {
   "cell_type": "code",
   "execution_count": 1,
   "id": "d652b09e",
   "metadata": {},
   "outputs": [],
   "source": [
    "import pandas as pd\n",
    "from sklearn.ensemble import BaggingClassifier, RandomForestClassifier\n",
    "from sklearn.metrics import accuracy_score, f1_score, confusion_matrix\n",
    "from sklearn.model_selection import StratifiedKFold\n",
    "import numpy as np\n",
    "from sklearn.linear_model import LogisticRegression\n",
    "import pickle\n",
    "from imblearn.under_sampling import ClusterCentroids"
   ]
  },
  {
   "cell_type": "code",
   "execution_count": 2,
   "id": "ce201644",
   "metadata": {},
   "outputs": [],
   "source": [
    "X_train = pd.read_csv('without_PCA/X_train.csv')\n",
    "x_test = pd.read_csv('without_PCA/X_test.csv')\n",
    "y_train = pd.read_csv('without_PCA/Y_train.csv')\n",
    "y_test = pd.read_csv('without_PCA/Y_test.csv')"
   ]
  },
  {
   "cell_type": "code",
   "execution_count": null,
   "id": "0957bac3",
   "metadata": {},
   "outputs": [],
   "source": [
    "rfc = RandomForestClassifier(n_estimators=100)\n",
    "rfc.fit(X_train, y_train)"
   ]
  },
  {
   "cell_type": "code",
   "execution_count": null,
   "id": "1f101e29",
   "metadata": {},
   "outputs": [],
   "source": [
    "pickle.dump(rfc, open('RandomForest.sav', 'wb'))"
   ]
  },
  {
   "cell_type": "code",
   "execution_count": null,
   "id": "3514867b",
   "metadata": {},
   "outputs": [],
   "source": [
    "y_pred = rfc.predict(x_test)"
   ]
  },
  {
   "cell_type": "code",
   "execution_count": null,
   "id": "a9c7a422",
   "metadata": {},
   "outputs": [],
   "source": [
    "accuracy_score(y_test, y_pred)"
   ]
  },
  {
   "cell_type": "code",
   "execution_count": null,
   "id": "c77c2352",
   "metadata": {},
   "outputs": [],
   "source": [
    "f1_score(y_test, y_pred)"
   ]
  },
  {
   "cell_type": "code",
   "execution_count": null,
   "id": "2cafc128",
   "metadata": {},
   "outputs": [],
   "source": [
    "confusion_matrix(y_test, y_pred)"
   ]
  },
  {
   "cell_type": "code",
   "execution_count": null,
   "id": "51c19466",
   "metadata": {},
   "outputs": [],
   "source": [
    "skf = StratifiedKFold(n_splits=5)\n",
    "skf.get_n_splits(X_train, y_train)\n",
    "print(skf)"
   ]
  },
  {
   "cell_type": "code",
   "execution_count": null,
   "id": "984e6d0a",
   "metadata": {},
   "outputs": [],
   "source": [
    "Accuracy = []\n",
    "f1 = []\n",
    "\n",
    "for i, (train_index, test_index) in enumerate(skf.split(X_train, y_train)):\n",
    "    X, Y, x, y = X_train.iloc[train_index], y_train.iloc[train_index], X_train.iloc[test_index], y_train.iloc[test_index]\n",
    "    rfc2 = RandomForestClassifier()\n",
    "    rfc2.fit(X, Y)\n",
    "    y_prd = rfc2.predict(x)\n",
    "    Accuracy.append(accuracy_score(y, y_prd))\n",
    "    f1.append(f1_score(y, y_prd))"
   ]
  },
  {
   "cell_type": "code",
   "execution_count": null,
   "id": "0c2398bf",
   "metadata": {},
   "outputs": [],
   "source": [
    "print(Accuracy)\n",
    "print(np.mean(Accuracy))"
   ]
  },
  {
   "cell_type": "code",
   "execution_count": null,
   "id": "1be113c8",
   "metadata": {},
   "outputs": [],
   "source": [
    "print(f1)\n",
    "print(np.mean(f1))"
   ]
  },
  {
   "cell_type": "code",
   "execution_count": null,
   "id": "780481c1",
   "metadata": {
    "scrolled": true
   },
   "outputs": [],
   "source": [
    "bgc = BaggingClassifier()\n",
    "bgc.fit(X_train, y_train)"
   ]
  },
  {
   "cell_type": "code",
   "execution_count": null,
   "id": "9d3176ec",
   "metadata": {},
   "outputs": [],
   "source": [
    "pickle.dump(bgc, open('BaggingClassifier.sav', 'wb'))"
   ]
  },
  {
   "cell_type": "code",
   "execution_count": null,
   "id": "f8f3c119",
   "metadata": {},
   "outputs": [],
   "source": [
    "y_pred = bgc.predict(x_test)"
   ]
  },
  {
   "cell_type": "code",
   "execution_count": null,
   "id": "d2c6dfc8",
   "metadata": {},
   "outputs": [],
   "source": [
    "accuracy_score(y_test, y_pred)"
   ]
  },
  {
   "cell_type": "code",
   "execution_count": null,
   "id": "41d29a8c",
   "metadata": {},
   "outputs": [],
   "source": [
    "f1_score(y_test, y_pred)"
   ]
  },
  {
   "cell_type": "code",
   "execution_count": null,
   "id": "cbe9303d",
   "metadata": {
    "scrolled": true
   },
   "outputs": [],
   "source": [
    "confusion_matrix(y_test, y_pred)"
   ]
  },
  {
   "cell_type": "code",
   "execution_count": null,
   "id": "11786da7",
   "metadata": {
    "scrolled": true
   },
   "outputs": [],
   "source": [
    "Accuracy = []\n",
    "f1 = []\n",
    "\n",
    "for i, (train_index, test_index) in enumerate(skf.split(X_train, y_train)):\n",
    "    X, Y, x, y = X_train.iloc[train_index], y_train.iloc[train_index], X_train.iloc[test_index], y_train.iloc[test_index]\n",
    "    bgc2 = BaggingClassifier()\n",
    "    bgc2.fit(X, Y)\n",
    "    y_prd = bgc2.predict(x)\n",
    "    Accuracy.append(accuracy_score(y, y_prd))\n",
    "    f1.append(f1_score(y, y_prd))"
   ]
  },
  {
   "cell_type": "code",
   "execution_count": null,
   "id": "201a12b4",
   "metadata": {},
   "outputs": [],
   "source": [
    "print(Accuracy)\n",
    "print(np.mean(Accuracy))"
   ]
  },
  {
   "cell_type": "code",
   "execution_count": null,
   "id": "536b48a0",
   "metadata": {},
   "outputs": [],
   "source": [
    "print(f1)\n",
    "print(np.mean(f1))"
   ]
  },
  {
   "cell_type": "code",
   "execution_count": null,
   "id": "3b50f223",
   "metadata": {
    "scrolled": true
   },
   "outputs": [],
   "source": [
    "bgc_lr = BaggingClassifier(estimator=LogisticRegression())\n",
    "bgc_lr.fit(X_train, y_train)"
   ]
  },
  {
   "cell_type": "code",
   "execution_count": null,
   "id": "cb66ce8d",
   "metadata": {},
   "outputs": [],
   "source": [
    "pickle.dump(bgc_lr, open('BaggedLogisticReg.sav', 'wb'))"
   ]
  },
  {
   "cell_type": "code",
   "execution_count": null,
   "id": "445fa454",
   "metadata": {},
   "outputs": [],
   "source": [
    "y_pred = bgc_lr.predict(x_test)"
   ]
  },
  {
   "cell_type": "code",
   "execution_count": null,
   "id": "cdb174bb",
   "metadata": {},
   "outputs": [],
   "source": [
    "accuracy_score(y_test, y_pred)"
   ]
  },
  {
   "cell_type": "code",
   "execution_count": null,
   "id": "3db243b5",
   "metadata": {},
   "outputs": [],
   "source": [
    "f1_score(y_test, y_pred)"
   ]
  },
  {
   "cell_type": "code",
   "execution_count": null,
   "id": "ce0e3fd3",
   "metadata": {},
   "outputs": [],
   "source": [
    "confusion_matrix(y_test, y_pred)"
   ]
  },
  {
   "cell_type": "code",
   "execution_count": null,
   "id": "81ae5d57",
   "metadata": {},
   "outputs": [],
   "source": [
    "Accuracy = []\n",
    "f1 = []\n",
    "\n",
    "for i, (train_index, test_index) in enumerate(skf.split(X_train, y_train)):\n",
    "    X, Y, x, y = X_train.iloc[train_index], y_train.iloc[train_index], X_train.iloc[test_index], y_train.iloc[test_index]\n",
    "    bgc_lr2 = BaggingClassifier(estimator=LogisticRegression())\n",
    "    bgc_lr2.fit(X, Y)\n",
    "    y_prd = bgc_lr2.predict(x)\n",
    "    Accuracy.append(accuracy_score(y, y_prd))\n",
    "    f1.append(f1_score(y, y_prd))"
   ]
  },
  {
   "cell_type": "code",
   "execution_count": null,
   "id": "d7ff0c88",
   "metadata": {},
   "outputs": [],
   "source": [
    "print(Accuracy)\n",
    "print(np.mean(Accuracy))"
   ]
  },
  {
   "cell_type": "code",
   "execution_count": null,
   "id": "08052e7a",
   "metadata": {},
   "outputs": [],
   "source": [
    "print(f1)\n",
    "print(np.mean(f1))"
   ]
  },
  {
   "cell_type": "code",
   "execution_count": null,
   "id": "a95703ab",
   "metadata": {},
   "outputs": [],
   "source": []
  }
 ],
 "metadata": {
  "kernelspec": {
   "display_name": "Python 3 (ipykernel)",
   "language": "python",
   "name": "python3"
  },
  "language_info": {
   "codemirror_mode": {
    "name": "ipython",
    "version": 3
   },
   "file_extension": ".py",
   "mimetype": "text/x-python",
   "name": "python",
   "nbconvert_exporter": "python",
   "pygments_lexer": "ipython3",
   "version": "3.11.5"
  }
 },
 "nbformat": 4,
 "nbformat_minor": 5
}
